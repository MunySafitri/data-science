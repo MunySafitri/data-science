{
 "cells": [
  {
   "cell_type": "code",
   "execution_count": 109,
   "metadata": {},
   "outputs": [],
   "source": [
    "import pandas as pd\n",
    "import numpy as np\n",
    "import matplotlib.pyplot as plt\n",
    "from matplotlib import pyplot\n",
    "from numpy import unique\n",
    "from numpy import where"
   ]
  },
  {
   "cell_type": "markdown",
   "metadata": {},
   "source": [
    "**untuk kmeans clustreing method**"
   ]
  },
  {
   "cell_type": "code",
   "execution_count": 217,
   "metadata": {},
   "outputs": [],
   "source": [
    "from matplotlib import style\n",
    "style.use(\"ggplot\")\n",
    "df = pd.read_csv(\"seed_dataset.csv\",sep=\",\",\n",
    "                usecols=[\"AREA\",\"PERIMETER\",\"COMPACTNESS\",\"LENGTH\",\"WIDTH\",\"ASYMMETRY\",\"LKG\",\"CLS\"])\n"
   ]
  },
  {
   "cell_type": "code",
   "execution_count": 211,
   "metadata": {},
   "outputs": [
    {
     "data": {
      "text/html": [
       "<div>\n",
       "<style scoped>\n",
       "    .dataframe tbody tr th:only-of-type {\n",
       "        vertical-align: middle;\n",
       "    }\n",
       "\n",
       "    .dataframe tbody tr th {\n",
       "        vertical-align: top;\n",
       "    }\n",
       "\n",
       "    .dataframe thead th {\n",
       "        text-align: right;\n",
       "    }\n",
       "</style>\n",
       "<table border=\"1\" class=\"dataframe\">\n",
       "  <thead>\n",
       "    <tr style=\"text-align: right;\">\n",
       "      <th></th>\n",
       "      <th>AREA</th>\n",
       "      <th>PERIMETER</th>\n",
       "      <th>COMPACTNESS</th>\n",
       "      <th>LENGTH</th>\n",
       "      <th>WIDTH</th>\n",
       "      <th>ASYMMETRY</th>\n",
       "      <th>LKG</th>\n",
       "      <th>CLS</th>\n",
       "    </tr>\n",
       "  </thead>\n",
       "  <tbody>\n",
       "    <tr>\n",
       "      <th>0</th>\n",
       "      <td>15.26</td>\n",
       "      <td>14.84</td>\n",
       "      <td>871.000</td>\n",
       "      <td>5.763</td>\n",
       "      <td>3.312</td>\n",
       "      <td>2.221</td>\n",
       "      <td>5.220</td>\n",
       "      <td>1.0</td>\n",
       "    </tr>\n",
       "    <tr>\n",
       "      <th>1</th>\n",
       "      <td>14.88</td>\n",
       "      <td>14.57</td>\n",
       "      <td>8.811</td>\n",
       "      <td>5.554</td>\n",
       "      <td>3.333</td>\n",
       "      <td>1.018</td>\n",
       "      <td>4.956</td>\n",
       "      <td>1.0</td>\n",
       "    </tr>\n",
       "    <tr>\n",
       "      <th>2</th>\n",
       "      <td>14.29</td>\n",
       "      <td>14.09</td>\n",
       "      <td>905.000</td>\n",
       "      <td>5.291</td>\n",
       "      <td>3.337</td>\n",
       "      <td>2.699</td>\n",
       "      <td>4.825</td>\n",
       "      <td>1.0</td>\n",
       "    </tr>\n",
       "    <tr>\n",
       "      <th>3</th>\n",
       "      <td>13.84</td>\n",
       "      <td>13.94</td>\n",
       "      <td>8.955</td>\n",
       "      <td>5.324</td>\n",
       "      <td>3.379</td>\n",
       "      <td>2.259</td>\n",
       "      <td>4.805</td>\n",
       "      <td>1.0</td>\n",
       "    </tr>\n",
       "    <tr>\n",
       "      <th>4</th>\n",
       "      <td>16.14</td>\n",
       "      <td>14.99</td>\n",
       "      <td>9.034</td>\n",
       "      <td>5.658</td>\n",
       "      <td>3.562</td>\n",
       "      <td>1.355</td>\n",
       "      <td>5.175</td>\n",
       "      <td>1.0</td>\n",
       "    </tr>\n",
       "  </tbody>\n",
       "</table>\n",
       "</div>"
      ],
      "text/plain": [
       "    AREA  PERIMETER  COMPACTNESS  LENGTH  WIDTH  ASYMMETRY    LKG  CLS\n",
       "0  15.26      14.84      871.000   5.763  3.312      2.221  5.220  1.0\n",
       "1  14.88      14.57        8.811   5.554  3.333      1.018  4.956  1.0\n",
       "2  14.29      14.09      905.000   5.291  3.337      2.699  4.825  1.0\n",
       "3  13.84      13.94        8.955   5.324  3.379      2.259  4.805  1.0\n",
       "4  16.14      14.99        9.034   5.658  3.562      1.355  5.175  1.0"
      ]
     },
     "execution_count": 211,
     "metadata": {},
     "output_type": "execute_result"
    }
   ],
   "source": [
    "df.head()"
   ]
  },
  {
   "cell_type": "code",
   "execution_count": 192,
   "metadata": {},
   "outputs": [
    {
     "data": {
      "text/html": [
       "<div>\n",
       "<style scoped>\n",
       "    .dataframe tbody tr th:only-of-type {\n",
       "        vertical-align: middle;\n",
       "    }\n",
       "\n",
       "    .dataframe tbody tr th {\n",
       "        vertical-align: top;\n",
       "    }\n",
       "\n",
       "    .dataframe thead th {\n",
       "        text-align: right;\n",
       "    }\n",
       "</style>\n",
       "<table border=\"1\" class=\"dataframe\">\n",
       "  <thead>\n",
       "    <tr style=\"text-align: right;\">\n",
       "      <th></th>\n",
       "      <th>AREA</th>\n",
       "      <th>PERIMETER</th>\n",
       "    </tr>\n",
       "  </thead>\n",
       "  <tbody>\n",
       "    <tr>\n",
       "      <th>0</th>\n",
       "      <td>15.26</td>\n",
       "      <td>14.84</td>\n",
       "    </tr>\n",
       "    <tr>\n",
       "      <th>1</th>\n",
       "      <td>14.88</td>\n",
       "      <td>14.57</td>\n",
       "    </tr>\n",
       "    <tr>\n",
       "      <th>2</th>\n",
       "      <td>14.29</td>\n",
       "      <td>14.09</td>\n",
       "    </tr>\n",
       "    <tr>\n",
       "      <th>3</th>\n",
       "      <td>13.84</td>\n",
       "      <td>13.94</td>\n",
       "    </tr>\n",
       "    <tr>\n",
       "      <th>4</th>\n",
       "      <td>16.14</td>\n",
       "      <td>14.99</td>\n",
       "    </tr>\n",
       "  </tbody>\n",
       "</table>\n",
       "</div>"
      ],
      "text/plain": [
       "    AREA  PERIMETER\n",
       "0  15.26      14.84\n",
       "1  14.88      14.57\n",
       "2  14.29      14.09\n",
       "3  13.84      13.94\n",
       "4  16.14      14.99"
      ]
     },
     "execution_count": 192,
     "metadata": {},
     "output_type": "execute_result"
    }
   ],
   "source": [
    "df_x = df.iloc[:, 0:2] #mengambil dua atribut\n",
    "df_x.head() \n"
   ]
  },
  {
   "cell_type": "markdown",
   "metadata": {},
   "source": []
  },
  {
   "cell_type": "code",
   "execution_count": 193,
   "metadata": {},
   "outputs": [],
   "source": [
    "x_array = np.array(df_x)#menjadi array"
   ]
  },
  {
   "cell_type": "code",
   "execution_count": 219,
   "metadata": {},
   "outputs": [
    {
     "name": "stdout",
     "output_type": "stream",
     "text": [
      "[[15.26 14.84]\n",
      " [14.88 14.57]\n",
      " [14.29 14.09]\n",
      " [13.84 13.94]\n",
      " [16.14 14.99]\n",
      " [14.38 14.21]\n",
      " [14.69 14.49]\n",
      " [14.11 14.1 ]\n",
      " [16.63 15.46]\n",
      " [16.44 15.25]\n",
      " [15.26 14.85]\n",
      " [14.03 14.16]\n",
      " [13.89 14.02]\n",
      " [13.78 14.06]\n",
      " [13.74 14.05]\n",
      " [14.59 14.28]\n",
      " [13.99 13.83]\n",
      " [15.69 14.75]\n",
      " [14.7  14.21]\n",
      " [12.72 13.57]\n",
      " [14.16 14.4 ]\n",
      " [14.11 14.26]\n",
      " [15.88 14.9 ]\n",
      " [12.08 13.23]\n",
      " [15.01 14.76]\n",
      " [16.19 15.16]\n",
      " [13.02 13.76]\n",
      " [12.74 13.67]\n",
      " [14.11 14.18]\n",
      " [13.45 14.02]\n",
      " [13.16 13.82]\n",
      " [15.49 14.94]\n",
      " [14.09 14.41]\n",
      " [13.94 14.17]\n",
      " [15.05 14.68]\n",
      " [16.12 15.  ]\n",
      " [16.2  15.27]\n",
      " [17.08 15.38]\n",
      " [14.8  14.52]\n",
      " [14.28 14.17]\n",
      " [13.54 13.85]\n",
      " [13.5  13.85]\n",
      " [13.16 13.55]\n",
      " [15.5  14.86]\n",
      " [15.11 14.54]\n",
      " [13.8  14.04]\n",
      " [15.36 14.76]\n",
      " [14.99 14.56]\n",
      " [14.79 14.52]\n",
      " [14.86 14.67]\n",
      " [14.43 14.4 ]\n",
      " [15.78 14.91]\n",
      " [14.49 14.61]\n",
      " [14.33 14.28]\n",
      " [14.52 14.6 ]\n",
      " [15.03 14.77]\n",
      " [14.46 14.35]\n",
      " [14.92 14.43]\n",
      " [15.38 14.77]\n",
      " [12.11 13.47]\n",
      " [11.42 12.86]\n",
      " [11.23 12.63]\n",
      " [12.36 13.19]\n",
      " [13.22 13.84]\n",
      " [12.78 13.57]\n",
      " [12.88 13.5 ]\n",
      " [14.34 14.37]\n",
      " [14.01 14.29]\n",
      " [14.37 14.39]\n",
      " [12.73 13.75]\n",
      " [17.63 15.98]\n",
      " [16.84 15.67]\n",
      " [17.26 15.73]\n",
      " [19.11 16.26]\n",
      " [16.82 15.51]\n",
      " [16.77 15.62]\n",
      " [17.32 15.91]\n",
      " [20.71 17.23]\n",
      " [18.94 16.49]\n",
      " [17.12 15.55]\n",
      " [16.53 15.34]\n",
      " [18.72 16.19]\n",
      " [20.2  16.89]\n",
      " [19.57 16.74]\n",
      " [19.51 16.71]\n",
      " [18.27 16.09]\n",
      " [18.88 16.26]\n",
      " [18.98 16.66]\n",
      " [21.18 17.21]\n",
      " [20.88 17.05]\n",
      " [20.1  16.99]\n",
      " [18.76 16.2 ]\n",
      " [18.81 16.29]\n",
      " [18.59 16.05]\n",
      " [18.36 16.52]\n",
      " [16.87 15.65]\n",
      " [19.31 16.59]\n",
      " [18.98 16.57]\n",
      " [18.17 16.26]\n",
      " [18.72 16.34]\n",
      " [16.41 15.25]\n",
      " [17.99 15.86]\n",
      " [19.46 16.5 ]\n",
      " [19.18 16.63]\n",
      " [18.95 16.42]\n",
      " [18.83 16.29]\n",
      " [18.85 16.17]\n",
      " [17.63 15.86]\n",
      " [19.94 16.92]\n",
      " [18.55 16.22]\n",
      " [18.45 16.12]\n",
      " [19.38 16.72]\n",
      " [19.13 16.31]\n",
      " [19.14 16.61]\n",
      " [20.97 17.25]\n",
      " [19.06 16.45]\n",
      " [18.96 16.2 ]\n",
      " [19.15 16.45]\n",
      " [18.89 16.23]\n",
      " [20.03 16.9 ]\n",
      " [20.24 16.91]\n",
      " [18.14 16.12]\n",
      " [16.17 15.38]\n",
      " [18.43 15.97]\n",
      " [15.99 14.89]\n",
      " [18.75 16.18]\n",
      " [18.65 16.41]\n",
      " [17.98 15.85]\n",
      " [20.16 17.03]\n",
      " [17.55 15.66]\n",
      " [18.3  15.89]\n",
      " [18.94 16.32]\n",
      " [15.38 14.9 ]\n",
      " [16.16 15.33]\n",
      " [15.56 14.89]\n",
      " [15.38 14.66]\n",
      " [17.36 15.76]\n",
      " [15.57 15.15]\n",
      " [15.6  15.11]\n",
      " [16.23 15.18]\n",
      " [13.07 13.92]\n",
      " [13.32 13.94]\n",
      " [13.34 13.95]\n",
      " [12.22 13.32]\n",
      " [11.82 13.4 ]\n",
      " [11.21 13.13]\n",
      " [11.43 13.13]\n",
      " [12.49 13.46]\n",
      " [12.7  13.71]\n",
      " [10.79 12.93]\n",
      " [11.83 13.23]\n",
      " [12.01 13.52]\n",
      " [12.26 13.6 ]\n",
      " [11.18 13.04]\n",
      " [11.36 13.05]\n",
      " [11.19 13.05]\n",
      " [11.34 12.87]\n",
      " [12.13 13.73]\n",
      " [11.75 13.52]\n",
      " [11.49 13.22]\n",
      " [12.54 13.67]\n",
      " [12.02 13.33]\n",
      " [12.05 13.41]\n",
      " [12.55 13.57]\n",
      " [11.14 12.79]\n",
      " [12.1  13.15]\n",
      " [12.44 13.59]\n",
      " [12.15 13.45]\n",
      " [11.35 13.12]\n",
      " [11.24 13.  ]\n",
      " [11.02 13.  ]\n",
      " [11.55 13.1 ]\n",
      " [11.27 12.97]\n",
      " [11.4  13.08]\n",
      " [10.83 12.96]\n",
      " [10.8  12.57]\n",
      " [11.26 13.01]\n",
      " [10.74 12.73]\n",
      " [11.48 13.05]\n",
      " [12.21 13.47]\n",
      " [11.41 12.95]\n",
      " [12.46 13.41]\n",
      " [12.19 13.36]\n",
      " [11.65 13.07]\n",
      " [12.89 13.77]\n",
      " [11.56 13.31]\n",
      " [11.81 13.45]\n",
      " [10.91 12.8 ]\n",
      " [11.23 12.82]\n",
      " [10.59 12.41]\n",
      " [10.93 12.8 ]\n",
      " [11.27 12.86]\n",
      " [11.87 13.02]\n",
      " [10.82 12.83]\n",
      " [12.11 13.27]\n",
      " [12.8  13.47]\n",
      " [12.79 13.53]\n",
      " [13.37 13.78]\n",
      " [12.62 13.67]\n",
      " [12.76 13.38]\n",
      " [12.38 13.44]\n",
      " [12.67 13.32]\n",
      " [11.18 12.72]\n",
      " [12.7  13.41]\n",
      " [12.37 13.47]\n",
      " [12.19 13.2 ]\n",
      " [11.23 12.88]\n",
      " [13.2  13.66]\n",
      " [11.84 13.21]\n",
      " [12.3  13.34]]\n"
     ]
    }
   ],
   "source": [
    "print(x_array)"
   ]
  },
  {
   "cell_type": "code",
   "execution_count": 195,
   "metadata": {},
   "outputs": [],
   "source": [
    "#kmeans\n",
    "from sklearn.cluster import KMeans\n",
    "kmeans = KMeans(n_clusters=4)\n",
    "kmeans.fit(x_array)\n",
    "df[\"kluster\"] = kmeans.labels_"
   ]
  },
  {
   "cell_type": "code",
   "execution_count": 221,
   "metadata": {},
   "outputs": [],
   "source": [
    "centroids = kmeans.cluster_centers_\n",
    "#labels = kmeans.labels_"
   ]
  },
  {
   "cell_type": "code",
   "execution_count": 223,
   "metadata": {},
   "outputs": [
    {
     "name": "stdout",
     "output_type": "stream",
     "text": [
      "[[11.83893333 13.22053333]\n",
      " [16.27763158 15.23868421]\n",
      " [19.15104167 16.46916667]\n",
      " [14.1277551  14.21061224]]\n"
     ]
    }
   ],
   "source": [
    "print(centroids)"
   ]
  },
  {
   "cell_type": "markdown",
   "metadata": {},
   "source": [
    "cara satu untuk memvisualisasikan data"
   ]
  },
  {
   "cell_type": "code",
   "execution_count": 224,
   "metadata": {},
   "outputs": [
    {
     "data": {
      "image/png": "[encoded data removed]",
      "text/plain": [
       "<Figure size 432x288 with 1 Axes>"
      ]
     },
     "metadata": {},
     "output_type": "display_data"
    }
   ],
   "source": [
    "\n",
    "yhat = kmeans.predict(x_array)\n",
    "# retrieve unique clusters\n",
    "clusters = unique(yhat)\n",
    "# create scatter plot for samples from each cluster\n",
    "for cluster in clusters:\n",
    "\t# get row indexes for samples with this cluster\n",
    "\trow_ix = where(yhat == cluster)\n",
    "\t# create scatter of these samples\n",
    "\tplt.scatter(x_array[row_ix, 0], x_array[row_ix, 1])\n",
    "# show the plot\n",
    "pyplot.show()"
   ]
  },
  {
   "cell_type": "markdown",
   "metadata": {},
   "source": [
    "cara dua unyuk memvisualisasikan data"
   ]
  },
  {
   "cell_type": "code",
   "execution_count": 199,
   "metadata": {},
   "outputs": [
    {
     "data": {
      "image/png": "[encoded data removed]",
      "text/plain": [
       "<Figure size 432x288 with 2 Axes>"
      ]
     },
     "metadata": {},
     "output_type": "display_data"
    }
   ],
   "source": [
    "output = plt.scatter(x_array[:,0],x_array[:,1],s=100, c=df.kluster, marker=\".\", alpha =1, )\n",
    "centers = kmeans.cluster_centers_\n",
    "plt.scatter(centers[:,0],centers[:,1], c=\"red\", s=200, alpha=1,marker=\".\")\n",
    "plt.title(\"Hasil Klustering K-Means\")\n",
    "plt.colorbar(output)\n",
    "plt.show()\n"
   ]
  },
  {
   "cell_type": "markdown",
   "metadata": {},
   "source": [
    "**dengan metode meanShift**"
   ]
  },
  {
   "cell_type": "code",
   "execution_count": 200,
   "metadata": {},
   "outputs": [
    {
     "data": {
      "image/png": "[encoded data removed]",
      "text/plain": [
       "<Figure size 432x288 with 1 Axes>"
      ]
     },
     "metadata": {},
     "output_type": "display_data"
    }
   ],
   "source": [
    "#cara satu\n",
    "from sklearn.cluster import MeanShift\n",
    "# define the model\n",
    "modelshift = MeanShift()\n",
    "# fit model and predict clusters\n",
    "yhat = modelshift.fit_predict(x_array)\n",
    "# retrieve unique clusters\n",
    "clusters = unique(yhat)\n",
    "# create scatter plot for samples from each cluster\n",
    "for cluster in clusters:\n",
    "\t# get row indexes for samples with this cluster\n",
    "\trow_ix = where(yhat == cluster)\n",
    "\t# create scatter of these samples\n",
    "\tpyplot.scatter(x_array[row_ix, 0], x_array[row_ix, 1])\n",
    "# show the plot\n",
    "pyplot.show()"
   ]
  },
  {
   "cell_type": "code",
   "execution_count": 225,
   "metadata": {},
   "outputs": [],
   "source": [
    "centroids = modelshift.cluster_centers_"
   ]
  },
  {
   "cell_type": "code",
   "execution_count": 226,
   "metadata": {},
   "outputs": [
    {
     "name": "stdout",
     "output_type": "stream",
     "text": [
      "[[12.11461538 13.33593407]\n",
      " [14.60333333 14.43861111]\n",
      " [18.77215686 16.31823529]]\n"
     ]
    }
   ],
   "source": [
    "print(centroids)"
   ]
  },
  {
   "cell_type": "code",
   "execution_count": 206,
   "metadata": {},
   "outputs": [
    {
     "data": {
      "image/png": "[encoded data removed]",
      "text/plain": [
       "<Figure size 432x288 with 2 Axes>"
      ]
     },
     "metadata": {},
     "output_type": "display_data"
    }
   ],
   "source": [
    "#cara dua\n",
    "output = plt.scatter(x_array[:,0],x_array[:,1],s=100, c=modelshift.labels_, marker=\".\", alpha =1, )\n",
    "centers = modelshift.cluster_centers_\n",
    "plt.scatter(centers[:,0],centers[:,1], c=\"red\", s=200, alpha=1,marker=\".\")\n",
    "plt.title(\"Hasil Klustering MeanShift\")\n",
    "plt.colorbar(output)\n",
    "plt.show()"
   ]
  },
  {
   "cell_type": "code",
   "execution_count": 202,
   "metadata": {},
   "outputs": [
    {
     "data": {
      "image/png": "[encoded data removed]",
      "text/plain": [
       "<Figure size 432x288 with 1 Axes>"
      ]
     },
     "metadata": {},
     "output_type": "display_data"
    }
   ],
   "source": [
    "# optics clustering\n",
    "from sklearn.cluster import OPTICS\n",
    "X = x_array\n",
    "# define the model\n",
    "modeloptic = OPTICS(eps=0.8, min_samples=10)\n",
    "# fit model and predict clusters\n",
    "yhat = modeloptic.fit_predict(X)\n",
    "# retrieve unique clusters\n",
    "clusters = unique(yhat)\n",
    "# create scatter plot for samples from each cluster\n",
    "for cluster in clusters:\n",
    "\t# get row indexes for samples with this cluster\n",
    "\trow_ix = where(yhat == cluster)\n",
    "\t# create scatter of these samples\n",
    "\tpyplot.scatter(X[row_ix, 0], X[row_ix, 1])\n",
    "# show the plot\n",
    "pyplot.show()"
   ]
  },
  {
   "cell_type": "code",
   "execution_count": 203,
   "metadata": {},
   "outputs": [
    {
     "data": {
      "image/png": "[encoded data removed]",
      "text/plain": [
       "<Figure size 432x288 with 1 Axes>"
      ]
     },
     "metadata": {},
     "output_type": "display_data"
    }
   ],
   "source": [
    "# gaussian mixture clustering\n",
    "from sklearn.mixture import GaussianMixture\n",
    "X = x_array\n",
    "# define the model\n",
    "model = GaussianMixture(n_components=2)\n",
    "# fit the model\n",
    "model.fit(X)\n",
    "# assign a cluster to each example\n",
    "yhat = model.predict(X)\n",
    "# retrieve unique clusters\n",
    "clusters = unique(yhat)\n",
    "# create scatter plot for samples from each cluster\n",
    "for cluster in clusters:\n",
    "\t# get row indexes for samples with this cluster\n",
    "\trow_ix = where(yhat == cluster)\n",
    "\t# create scatter of these samples\n",
    "\tpyplot.scatter(X[row_ix, 0], X[row_ix, 1])\n",
    "# show the plot\n",
    "pyplot.show()"
   ]
  }
 ],
 "metadata": {
  "interpreter": {
   "hash": "965ba1120b0c101b3f715b6e258a73742ec1cf86f2c8b04492724c87d9f112c3"
  },
  "kernelspec": {
   "display_name": "Python 3.8.7 64-bit",
   "language": "python",
   "name": "python3"
  },
  "language_info": {
   "codemirror_mode": {
    "name": "ipython",
    "version": 3
   },
   "file_extension": ".py",
   "mimetype": "text/x-python",
   "name": "python",
   "nbconvert_exporter": "python",
   "pygments_lexer": "ipython3",
   "version": "3.8.7"
  },
  "orig_nbformat": 4
 },
 "nbformat": 4,
 "nbformat_minor": 2
}
