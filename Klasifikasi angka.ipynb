{
  "nbformat": 4,
  "nbformat_minor": 0,
  "metadata": {
    "colab": {
      "provenance": [],
      "include_colab_link": true
    },
    "kernelspec": {
      "name": "python3",
      "display_name": "Python 3"
    },
    "language_info": {
      "name": "python"
    }
  },
  "cells": [
    {
      "cell_type": "markdown",
      "metadata": {
        "id": "view-in-github",
        "colab_type": "text"
      },
      "source": [
        "<a href=\"https://colab.research.google.com/github/MunySafitri/data-science/blob/main/Klasifikasi%20angka.ipynb\" target=\"_parent\"><img src=\"https://colab.research.google.com/assets/colab-badge.svg\" alt=\"Open In Colab\"/></a>"
      ]
    },
    {
      "cell_type": "code",
      "execution_count": null,
      "metadata": {
        "id": "XropTgX9Yv4B"
      },
      "outputs": [],
      "source": [
        "import tensorflow as tf\n",
        "import seaborn as sns\n",
        "import numpy as np\n",
        "import pandas as pd\n",
        "import matplotlib.pyplot as plt\n",
        "import matplotlib.image as mpimg\n",
        "#print(\"TensorFlow version:\", tf.__version__)"
      ]
    },
    {
      "cell_type": "code",
      "source": [
        "mnist = tf.keras.datasets.mnist\n",
        "(x_train, y_train), (x_test, y_test) = mnist.load_data()"
      ],
      "metadata": {
        "id": "tbdQkk7icwSH"
      },
      "execution_count": null,
      "outputs": []
    },
    {
      "cell_type": "code",
      "source": [
        "input_shape = (28, 28, 1)\n",
        "\n",
        "x_train=x_train.reshape(x_train.shape[0], x_train.shape[1], x_train.shape[2], 1)\n",
        "x_train=x_train / 255.0\n",
        "x_test = x_test.reshape(x_test.shape[0], x_test.shape[1], x_test.shape[2], 1)\n",
        "x_test=x_test/255.0"
      ],
      "metadata": {
        "id": "ucuqKc2fc4Ob"
      },
      "execution_count": null,
      "outputs": []
    },
    {
      "cell_type": "code",
      "source": [
        "plt.imshow(x_train[100][:,:,0])\n",
        "print(y_train[100])"
      ],
      "metadata": {
        "colab": {
          "base_uri": "https://localhost:8080/",
          "height": 283
        },
        "id": "O1rl2RBBc4-Z",
        "outputId": "105c337a-afc1-4b82-a108-d87273c3d728"
      },
      "execution_count": null,
      "outputs": [
        {
          "output_type": "stream",
          "name": "stdout",
          "text": [
            "5\n"
          ]
        },
        {
          "output_type": "display_data",
          "data": {
            "text/plain": [
              "<Figure size 432x288 with 1 Axes>"
            ],
            "image/png": "[encoded data removed]"
          },
          "metadata": {
            "needs_background": "light"
          }
        }
      ]
    },
    {
      "cell_type": "code",
      "source": [
        "batch_size = 64\n",
        "num_classes = 10\n",
        "epochs = 5"
      ],
      "metadata": {
        "id": "sH9qKOYxdUfL"
      },
      "execution_count": null,
      "outputs": []
    },
    {
      "cell_type": "code",
      "source": [
        "# model = tf.keras.models.Sequential([\n",
        "#     tf.keras.layers.Conv2D(32, (5,5), padding='same', activation='relu', input_shape=input_shape),\n",
        "#     tf.keras.layers.Conv2D(32, (5,5), padding='same', activation='relu'),\n",
        "#     tf.keras.layers.MaxPool2D(),\n",
        "#     tf.keras.layers.Dropout(0.25),\n",
        "#     tf.keras.layers.Conv2D(64, (3,3), padding='same', activation='relu'),\n",
        "#     tf.keras.layers.Conv2D(64, (3,3), padding='same', activation='relu'),\n",
        "#     tf.keras.layers.MaxPool2D(strides=(2,2)),\n",
        "#     tf.keras.layers.Dropout(0.25),\n",
        "#     tf.keras.layers.Flatten(),\n",
        "#     tf.keras.layers.Dense(128, activation='relu'),\n",
        "#     tf.keras.layers.Dropout(0.5),\n",
        "#     tf.keras.layers.Dense(num_classes, activation='softmax')\n",
        "# ])\n",
        "\n",
        "# model.compile(optimizer=tf.keras.optimizers.RMSprop(epsilon=1e-08), loss='sparse_categorical_crossentropy', metrics=['acc'])"
      ],
      "metadata": {
        "id": "QKxKlheJdYoU"
      },
      "execution_count": null,
      "outputs": []
    },
    {
      "cell_type": "code",
      "source": [
        "callback_ES = tf.keras.callbacks.EarlyStopping(\n",
        "    monitor='loss',\n",
        "    min_delta=0.05,\n",
        "    patience=2,\n",
        "    verbose=0,\n",
        "    mode='auto',\n",
        "    baseline=None,\n",
        "    restore_best_weights=False\n",
        ")\n",
        "model = tf.keras.models.Sequential([\n",
        "    tf.keras.layers.Conv2D(32, (2,2), padding='same', activation='relu', input_shape=input_shape),\n",
        "    tf.keras.layers.MaxPool2D(),\n",
        "    tf.keras.layers.Dropout(0.5),\n",
        "    tf.keras.layers.Conv2D(32, (2,2), padding='same', activation='relu'),\n",
        "    tf.keras.layers.MaxPool2D(strides=(2,2)),\n",
        "    tf.keras.layers.Dropout(0.5),\n",
        "    tf.keras.layers.Flatten(),\n",
        "    tf.keras.layers.Dense(64, activation='relu',\n",
        "                          kernel_regularizer=tf.keras.regularizers.L1(0.01),\n",
        "                          activity_regularizer=tf.keras.regularizers.L2(0.01)),\n",
        "    tf.keras.layers.Dense(num_classes, activation='softmax')\n",
        "])\n",
        "\n",
        "model.compile(optimizer='adam',\n",
        "              loss=tf.keras.losses.SparseCategoricalCrossentropy(from_logits=True),\n",
        "              metrics=['acc'])"
      ],
      "metadata": {
        "id": "MTXtbb9lifcu"
      },
      "execution_count": null,
      "outputs": []
    },
    {
      "cell_type": "code",
      "source": [
        "# class myCallback(tf.keras.callbacks.Callback):\n",
        "#   def on_epoch_end(self, epoch, logs={}):\n",
        "#     if(logs.get('acc')>0.995):\n",
        "#       print(\"\\nReached 99.5% accuracy so cancelling training!\")\n",
        "#       self.model.stop_training = True\n",
        "\n",
        "# callbacks = myCallback()"
      ],
      "metadata": {
        "id": "t5N1WdA9dbAw"
      },
      "execution_count": null,
      "outputs": []
    },
    {
      "cell_type": "code",
      "source": [
        "history = model.fit(x_train, y_train,\n",
        "                    batch_size=batch_size,\n",
        "                    epochs=epochs,\n",
        "                    validation_split=0.1,\n",
        "                    callbacks=[callback_ES])"
      ],
      "metadata": {
        "colab": {
          "base_uri": "https://localhost:8080/"
        },
        "id": "lOFZrwjviSIs",
        "outputId": "1f3611e1-6d10-48ee-d173-962865222536"
      },
      "execution_count": null,
      "outputs": [
        {
          "output_type": "stream",
          "name": "stdout",
          "text": [
            "Epoch 1/5\n",
            "844/844 [==============================] - 45s 52ms/step - loss: 2.5242 - acc: 0.7146 - val_loss: 1.1018 - val_acc: 0.9217\n",
            "Epoch 2/5\n",
            "844/844 [==============================] - 43s 51ms/step - loss: 1.2019 - acc: 0.8520 - val_loss: 0.9049 - val_acc: 0.9468\n",
            "Epoch 3/5\n",
            "844/844 [==============================] - 42s 50ms/step - loss: 1.0783 - acc: 0.8732 - val_loss: 0.8223 - val_acc: 0.9505\n",
            "Epoch 4/5\n",
            "844/844 [==============================] - 43s 50ms/step - loss: 1.0093 - acc: 0.8821 - val_loss: 0.7655 - val_acc: 0.9585\n",
            "Epoch 5/5\n",
            "844/844 [==============================] - 43s 51ms/step - loss: 0.9603 - acc: 0.8898 - val_loss: 0.7101 - val_acc: 0.9590\n"
          ]
        }
      ]
    },
    {
      "cell_type": "code",
      "source": [
        "fig, ax = plt.subplots(2,1)\n",
        "ax[0].plot(history.history['loss'], color='b', label=\"Training Loss\")\n",
        "ax[0].plot(history.history['val_loss'], color='r', label=\"Validation Loss\",axes =ax[0])\n",
        "legend = ax[0].legend(loc='best', shadow=True)\n",
        "\n",
        "ax[1].plot(history.history['acc'], color='b', label=\"Training Accuracy\")\n",
        "ax[1].plot(history.history['val_acc'], color='r',label=\"Validation Accuracy\")\n",
        "legend = ax[1].legend(loc='best', shadow=True)"
      ],
      "metadata": {
        "colab": {
          "base_uri": "https://localhost:8080/",
          "height": 265
        },
        "id": "LgZ-fARVddsE",
        "outputId": "4b545f19-bff4-4f78-e0b8-e731ad387daf"
      },
      "execution_count": null,
      "outputs": [
        {
          "output_type": "display_data",
          "data": {
            "text/plain": [
              "<Figure size 432x288 with 2 Axes>"
            ],
            "image/png": "[encoded data removed]"
          },
          "metadata": {
            "needs_background": "light"
          }
        }
      ]
    },
    {
      "cell_type": "code",
      "source": [
        "test_loss, test_acc = model.evaluate(x_test, y_test)"
      ],
      "metadata": {
        "colab": {
          "base_uri": "https://localhost:8080/"
        },
        "id": "ueP0cbUAdf_s",
        "outputId": "2a194a2f-708e-4781-a98e-24e869bd9b7c"
      },
      "execution_count": null,
      "outputs": [
        {
          "output_type": "stream",
          "name": "stdout",
          "text": [
            "313/313 [==============================] - 3s 9ms/step - loss: 0.7288 - acc: 0.9520\n"
          ]
        }
      ]
    },
    {
      "cell_type": "code",
      "source": [
        "model.evaluate(x_test,  y_test, verbose=2)"
      ],
      "metadata": {
        "colab": {
          "base_uri": "https://localhost:8080/"
        },
        "id": "Qi-XW7RmdiuE",
        "outputId": "dcdc5b02-96e0-4510-97b3-db9e1cbe55f5"
      },
      "execution_count": null,
      "outputs": [
        {
          "output_type": "stream",
          "name": "stdout",
          "text": [
            "313/313 - 3s - loss: 0.7288 - acc: 0.9520 - 3s/epoch - 8ms/step\n"
          ]
        },
        {
          "output_type": "execute_result",
          "data": {
            "text/plain": [
              "[0.728771448135376, 0.9520000219345093]"
            ]
          },
          "metadata": {},
          "execution_count": 21
        }
      ]
    },
    {
      "cell_type": "code",
      "source": [
        "probability_model = tf.keras.Sequential([\n",
        "  model,\n",
        "  tf.keras.layers.Softmax()\n",
        "])"
      ],
      "metadata": {
        "id": "M1lvKtbOfLmz"
      },
      "execution_count": null,
      "outputs": []
    },
    {
      "cell_type": "code",
      "source": [
        "probability_model(x_test[:5])"
      ],
      "metadata": {
        "colab": {
          "base_uri": "https://localhost:8080/"
        },
        "id": "-ngS1-H5fOAI",
        "outputId": "33da59ae-9f71-4960-e313-8fd3516ce1a7"
      },
      "execution_count": null,
      "outputs": [
        {
          "output_type": "execute_result",
          "data": {
            "text/plain": [
              "<tf.Tensor: shape=(5, 10), dtype=float32, numpy=\n",
              "array([[0.08537498, 0.0853693 , 0.08542679, 0.0853985 , 0.08536689,\n",
              "        0.08536705, 0.08536599, 0.23150651, 0.08537112, 0.08545286],\n",
              "       [0.08814198, 0.08871396, 0.218766  , 0.08653324, 0.08615549,\n",
              "        0.0861758 , 0.08659188, 0.08622166, 0.08653638, 0.08616359],\n",
              "       [0.08558453, 0.22875221, 0.085604  , 0.08557267, 0.08609579,\n",
              "        0.08555382, 0.08573684, 0.08580159, 0.0856708 , 0.08562779],\n",
              "       [0.23113735, 0.08539553, 0.08550099, 0.08541924, 0.08540007,\n",
              "        0.08540907, 0.08544323, 0.08545143, 0.08541982, 0.08542323],\n",
              "       [0.08545797, 0.085449  , 0.08549477, 0.08544683, 0.23025262,\n",
              "        0.08544593, 0.08558713, 0.08546913, 0.08544923, 0.08594733]],\n",
              "      dtype=float32)>"
            ]
          },
          "metadata": {},
          "execution_count": 23
        }
      ]
    },
    {
      "cell_type": "code",
      "source": [
        "plt.figure(figsize=(10,10))\n",
        "for i in range(25):\n",
        "    plt.subplot(5,5,i+1)\n",
        "    plt.xticks([])\n",
        "    plt.yticks([])\n",
        "    plt.grid(False)\n",
        "    plt.imshow(x_train[i][:,:,0])\n",
        "plt.show()"
      ],
      "metadata": {
        "colab": {
          "base_uri": "https://localhost:8080/",
          "height": 578
        },
        "id": "q8ZGKaRCxkWp",
        "outputId": "a2a01948-bcdf-4ba0-b53a-73f3e13c47d5"
      },
      "execution_count": null,
      "outputs": [
        {
          "output_type": "display_data",
          "data": {
            "text/plain": [
              "<Figure size 720x720 with 25 Axes>"
            ],
            "image/png": "[encoded data removed]"
          },
          "metadata": {}
        }
      ]
    },
    {
      "cell_type": "code",
      "source": [
        "model.summary()"
      ],
      "metadata": {
        "colab": {
          "base_uri": "https://localhost:8080/"
        },
        "id": "mgIt4ROH7rTm",
        "outputId": "4121e734-31ea-46ff-8aa9-be5d0e2484cf"
      },
      "execution_count": null,
      "outputs": [
        {
          "output_type": "stream",
          "name": "stdout",
          "text": [
            "Model: \"sequential_2\"\n",
            "_________________________________________________________________\n",
            " Layer (type)                Output Shape              Param #   \n",
            "=================================================================\n",
            " conv2d_2 (Conv2D)           (None, 28, 28, 32)        160       \n",
            "                                                                 \n",
            " max_pooling2d_2 (MaxPooling  (None, 14, 14, 32)       0         \n",
            " 2D)                                                             \n",
            "                                                                 \n",
            " dropout_2 (Dropout)         (None, 14, 14, 32)        0         \n",
            "                                                                 \n",
            " conv2d_3 (Conv2D)           (None, 14, 14, 32)        4128      \n",
            "                                                                 \n",
            " max_pooling2d_3 (MaxPooling  (None, 7, 7, 32)         0         \n",
            " 2D)                                                             \n",
            "                                                                 \n",
            " dropout_3 (Dropout)         (None, 7, 7, 32)          0         \n",
            "                                                                 \n",
            " flatten_1 (Flatten)         (None, 1568)              0         \n",
            "                                                                 \n",
            " dense_2 (Dense)             (None, 64)                100416    \n",
            "                                                                 \n",
            " dense_3 (Dense)             (None, 10)                650       \n",
            "                                                                 \n",
            "=================================================================\n",
            "Total params: 105,354\n",
            "Trainable params: 105,354\n",
            "Non-trainable params: 0\n",
            "_________________________________________________________________\n"
          ]
        }
      ]
    }
  ]
}